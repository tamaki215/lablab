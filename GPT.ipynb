{
 "cells": [
  {
   "cell_type": "code",
   "execution_count": 2,
   "id": "ec9b9c82",
   "metadata": {},
   "outputs": [
    {
     "name": "stdout",
     "output_type": "stream",
     "text": [
      "\n",
      "\n",
      "Tokyo is the capital of Japan.\n"
     ]
    }
   ],
   "source": [
    "import openai\n",
    "import myenv\n",
    "\n",
    "#APIキーを取得\n",
    "openai.api_key = myenv.API_KEY\n",
    "model_engine = \"text-davinci-002\"\n",
    "\n",
    "#指示（Prompt）を設定\n",
    "prompt = \"日本の首都はどこですか?\"\n",
    "\n",
    "#推論を実行\n",
    "completions = openai.Completion.create(\n",
    "    engine=model_engine,\n",
    "    prompt=prompt,\n",
    "    max_tokens=1024,\n",
    "    n=1,\n",
    "    stop=None,\n",
    "    temperature=0.5,\n",
    ")\n",
    "\n",
    "#推論結果を出力\n",
    "message = completions.choices[0].text\n",
    "print(message)\n",
    "\n"
   ]
  }
 ],
 "metadata": {
  "kernelspec": {
   "display_name": "Python 3.8.2 64-bit",
   "language": "python",
   "name": "python3"
  },
  "language_info": {
   "codemirror_mode": {
    "name": "ipython",
    "version": 3
   },
   "file_extension": ".py",
   "mimetype": "text/x-python",
   "name": "python",
   "nbconvert_exporter": "python",
   "pygments_lexer": "ipython3",
   "version": "3.8.2"
  },
  "vscode": {
   "interpreter": {
    "hash": "fa9a3d14dd70a0dc3832efb4342d3bd4478c55cecddc9e6df38ecac8fba371e6"
   }
  }
 },
 "nbformat": 4,
 "nbformat_minor": 5
}
